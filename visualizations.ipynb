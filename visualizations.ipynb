{
 "cells": [
  {
   "cell_type": "code",
   "execution_count": null,
   "id": "b61d16f8-8da7-4f3e-bd57-6ad2896b8328",
   "metadata": {},
   "outputs": [],
   "source": [
    "%store -r num_X"
   ]
  },
  {
   "cell_type": "code",
   "execution_count": null,
   "id": "30bcff79-af65-4796-b30d-0a844bebe0cb",
   "metadata": {},
   "outputs": [],
   "source": [
    "\"\"\"\n",
    "Look at some correlations - full num_X\n",
    "\"\"\"\n",
    "# names: X_train, X_val, y_train, y_val\n",
    "\n",
    "# From: https://www.kaggle.com/ankitjha/comparing-regression-models\n",
    "import seaborn as sns\n",
    "corr_mat = num_X.corr(method='pearson')\n",
    "plt.figure(figsize=(20,10))\n",
    "sns.heatmap(corr_mat,vmax=1,square=True,annot=True,cmap='cubehelix')\n"
   ]
  },
  {
   "cell_type": "code",
   "execution_count": null,
   "id": "f1c017aa-62ac-4c84-a0e9-0e3ea93d025f",
   "metadata": {},
   "outputs": [],
   "source": [
    "\"\"\"\n",
    "Look at each column\n",
    "\"\"\"\n",
    "\n",
    "import matplotlib as plt\n",
    "num_X.plot.scatter(x=\"year\", y=\"citations\", alpha=0.5)\n",
    "num_X.plot.scatter(x=\"references\", y=\"citations\", alpha=0.5)  # might have 3 outliers\n",
    "num_X.plot.scatter(x=\"title_length\", y=\"citations\", alpha=0.5) # anything over 30 as outlier?\n",
    "num_X.plot.scatter(x=\"team_sz\", y=\"citations\", alpha=0.5)  # might have 3 outliers\n",
    "num_X.plot.scatter(x=\"topic_var\", y=\"citations\", alpha=0.5) # one outlier; maybe anything over 40\n",
    "num_X.plot.scatter(x=\"topic_popularity\", y=\"citations\", alpha=0.5)\n",
    "num_X.plot.scatter(x=\"topic_citations_average\", y=\"citations\", alpha=0.5)\n",
    "num_X.plot.scatter(x=\"venue_popularity\", y=\"citations\", alpha=0.5)\n",
    "num_X.plot.scatter(x=\"open_access\", y=\"citations\", alpha=0.5)\n",
    "num_X.plot.scatter(x=\"age\", y=\"citations\", alpha=0.5)\n",
    "num_X.plot.scatter(x=\"venPresL\", y=\"citations\", alpha=0.5)  # anything over 300 as outlier?\n",
    "num_X.plot.scatter(x=\"has_keyword\", y=\"citations\", alpha=0.5)\n",
    "num_X.plot.scatter(x=\"keyword_count\", y=\"citations\", alpha=0.5)\n",
    "num_X.plot.scatter(x=\"h_index\", y=\"citations\", alpha=0.5)  # anything over 35 as outlier?\n",
    "num_X.plot.scatter(x=\"field_cit\", y=\"citations\", alpha=0.5)"
   ]
  }
 ],
 "metadata": {
  "kernelspec": {
   "display_name": "Python 3 (ipykernel)",
   "language": "python",
   "name": "python3"
  },
  "language_info": {
   "codemirror_mode": {
    "name": "ipython",
    "version": 3
   },
   "file_extension": ".py",
   "mimetype": "text/x-python",
   "name": "python",
   "nbconvert_exporter": "python",
   "pygments_lexer": "ipython3",
   "version": "3.8.12"
  }
 },
 "nbformat": 4,
 "nbformat_minor": 5
}
