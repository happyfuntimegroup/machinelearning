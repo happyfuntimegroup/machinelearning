{
 "cells": [
  {
   "cell_type": "code",
   "execution_count": null,
   "id": "eedf4728-fa09-436d-83b3-aed33d5c7ccf",
   "metadata": {},
   "outputs": [],
   "source": [
    "### Alt method for keyword creation\n",
    "\n",
    "# source: https://towardsdatascience.com/keyword-extraction-process-in-python-with-natural-language-processing-nlp-d769a9069d5c\n",
    "import yake\n",
    "\n",
    "def best_keywords (data, words_per_paper):\n",
    "    a = data['citations'].quantile(q = .9)\n",
    "    best = data[data['citations'] > a]\n",
    "    best['keywords'] = ''\n",
    "\n",
    "    extractor = yake.KeywordExtractor()\n",
    "    language = 'en'\n",
    "    max_ngram = 1\n",
    "    deduplication_threshold = 0.1   # low value = duplication of keywords in ngrams not allowed\n",
    "    num_keywords = words_per_paper\n",
    "\n",
    "\n",
    "    for index, i_paper in best.iterrows(): # iterate over the dataframe \n",
    "        text = i_paper['abstract']\n",
    "        custom_kw_extractor = yake.KeywordExtractor(lan=language, n=max_ngram, dedupLim=deduplication_threshold, \n",
    "                                                    top=num_keywords, features=None)\n",
    "        keywords = custom_kw_extractor.extract_keywords(text)\n",
    "\n",
    "        k = []\n",
    "        for i in keywords:\n",
    "            k.append(i[0].lower())\n",
    "\n",
    "        best.at[index, 'keywords'] = k\n",
    "\n",
    "    a = best['keywords'].tolist()\n",
    "    a = [x for l in a for x in l]\n",
    "    \n",
    "    return a\n",
    "\n",
    "\n",
    "print(best_keywords(play, 3))\n",
    "\n",
    "\n"
   ]
  }
 ],
 "metadata": {
  "kernelspec": {
   "display_name": "Python 3 (ipykernel)",
   "language": "python",
   "name": "python3"
  },
  "language_info": {
   "codemirror_mode": {
    "name": "ipython",
    "version": 3
   },
   "file_extension": ".py",
   "mimetype": "text/x-python",
   "name": "python",
   "nbconvert_exporter": "python",
   "pygments_lexer": "ipython3",
   "version": "3.8.12"
  }
 },
 "nbformat": 4,
 "nbformat_minor": 5
}
